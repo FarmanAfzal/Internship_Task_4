{
  "nbformat": 4,
  "nbformat_minor": 0,
  "metadata": {
    "colab": {
      "provenance": []
    },
    "kernelspec": {
      "name": "python3",
      "display_name": "Python 3"
    },
    "language_info": {
      "name": "python"
    }
  },
  "cells": [
    {
      "cell_type": "code",
      "source": [
        "# Step 1: Import libraries\n",
        "import pandas as pd\n",
        "import numpy as np\n",
        "from sklearn.model_selection import train_test_split\n",
        "from sklearn.linear_model import LinearRegression\n",
        "from sklearn.metrics import mean_squared_error, mean_absolute_error\n",
        "import numpy as np\n",
        "from sklearn.metrics import mean_squared_error, mean_absolute_error"
      ],
      "metadata": {
        "id": "IBefy3ZdsBc_"
      },
      "execution_count": 16,
      "outputs": []
    },
    {
      "cell_type": "code",
      "source": [
        "# Step 2: Load the dataset\n",
        "ratings = pd.read_csv('ratings.csv')  # should contain: userId, movieId, rating, timestamp\n",
        "movies = pd.read_csv('movies.csv')    # should contain: movieId, title, genres"
      ],
      "metadata": {
        "id": "pxruIX3URGuX"
      },
      "execution_count": 5,
      "outputs": []
    },
    {
      "cell_type": "code",
      "source": [
        "# Step 3: Merge the two datasets\n",
        "data = pd.merge(ratings, movies, on='movieId')"
      ],
      "metadata": {
        "id": "PL9AQR2DRLKX"
      },
      "execution_count": 6,
      "outputs": []
    },
    {
      "cell_type": "code",
      "source": [
        "# Step 4: Drop irrelevant columns\n",
        "if 'timestamp' in data.columns:\n",
        "    data.drop('timestamp', axis=1, inplace=True)"
      ],
      "metadata": {
        "id": "j4iW6nsjRNjP"
      },
      "execution_count": 7,
      "outputs": []
    },
    {
      "cell_type": "code",
      "source": [
        "# Step 5: Create user average and movie average features\n",
        "user_avg = data.groupby('userId')['rating'].mean().reset_index()\n",
        "user_avg.columns = ['userId', 'user_avg']\n",
        "\n",
        "movie_avg = data.groupby('movieId')['rating'].mean().reset_index()\n",
        "movie_avg.columns = ['movieId', 'movie_avg']\n"
      ],
      "metadata": {
        "id": "fhH6430sRPp2"
      },
      "execution_count": 8,
      "outputs": []
    },
    {
      "cell_type": "code",
      "source": [
        "# Step 6: Merge averages back to main data\n",
        "data = pd.merge(data, user_avg, on='userId')\n",
        "data = pd.merge(data, movie_avg, on='movieId')\n"
      ],
      "metadata": {
        "id": "QQbPG-dLRSNf"
      },
      "execution_count": 9,
      "outputs": []
    },
    {
      "cell_type": "code",
      "source": [
        "# Step 7: Select features and target\n",
        "X = data[['user_avg', 'movie_avg']]\n",
        "y = data['rating']\n"
      ],
      "metadata": {
        "id": "Czu-Wh_eRUO2"
      },
      "execution_count": 10,
      "outputs": []
    },
    {
      "cell_type": "code",
      "source": [
        "# Step 8: Train-test split\n",
        "X_train, X_test, y_train, y_test = train_test_split(X, y, test_size=0.2, random_state=42)\n"
      ],
      "metadata": {
        "id": "NqXWMHljRVzf"
      },
      "execution_count": 11,
      "outputs": []
    },
    {
      "cell_type": "code",
      "source": [
        "# Step 9: Train the regression model\n",
        "model = LinearRegression()\n",
        "model.fit(X_train, y_train)\n",
        "data.dropna(inplace=True)"
      ],
      "metadata": {
        "id": "9zu6WpvtRYDm"
      },
      "execution_count": 22,
      "outputs": []
    },
    {
      "cell_type": "code",
      "source": [
        "preds = model.predict(X_test)\n",
        "rmse = np.sqrt(mean_squared_error(y_test, preds))\n",
        "mae = mean_absolute_error(y_test, preds)"
      ],
      "metadata": {
        "id": "hRFXy3ehRaAu"
      },
      "execution_count": 23,
      "outputs": []
    },
    {
      "cell_type": "code",
      "source": [
        "# Step 11: Print evaluation results\n",
        "print(\"✅ Movie Rating Prediction (Linear Regression)\")\n",
        "print(f\"Root Mean Squared Error (RMSE): {rmse:.4f}\")\n",
        "print(f\"Mean Absolute Error (MAE): {mae:.4f}\")"
      ],
      "metadata": {
        "colab": {
          "base_uri": "https://localhost:8080/"
        },
        "id": "viUWFPPORdgm",
        "outputId": "0fd52b05-b3bb-482f-9ec8-4383d832c686"
      },
      "execution_count": 24,
      "outputs": [
        {
          "output_type": "stream",
          "name": "stdout",
          "text": [
            "✅ Movie Rating Prediction (Linear Regression)\n",
            "Root Mean Squared Error (RMSE): 0.8580\n",
            "Mean Absolute Error (MAE): 0.6539\n"
          ]
        }
      ]
    }
  ]
}